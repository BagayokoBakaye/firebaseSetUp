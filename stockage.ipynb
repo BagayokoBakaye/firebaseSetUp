{
 "cells": [
  {
   "cell_type": "code",
   "execution_count": null,
   "metadata": {},
   "outputs": [],
   "source": [
    "# Upload image to Firebase Storage\n",
    "image_blob = bucket.blob('images/' + data['image_name'])\n",
    "image_blob.upload_from_filename(data['image_path'])\n",
    "\n",
    "# Save image path in Firestore\n",
    "doc_ref = db.collection('images').document()\n",
    "doc_ref.set({\n",
    "    'image_path': image_blob.public_url,\n",
    "    'timestamp': firestore.SERVER_TIMESTAMP\n",
    "})\n"
   ]
  }
 ],
 "metadata": {
  "language_info": {
   "name": "python"
  },
  "orig_nbformat": 4
 },
 "nbformat": 4,
 "nbformat_minor": 2
}
