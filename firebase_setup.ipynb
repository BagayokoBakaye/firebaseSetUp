{
 "cells": [
  {
   "cell_type": "code",
   "execution_count": null,
   "metadata": {},
   "outputs": [],
   "source": [
    "import firebase_admin\n",
    "from firebase_admin import credentials, firestore\n",
    "from google.cloud import storage\n",
    "\n",
    "# Initialize Firebase\n",
    "cred = credentials.Certificate('path/to/serviceAccountKey.json')\n",
    "firebase_admin.initialize_app(cred)\n",
    "db = firestore.client()\n",
    "client = storage.Client()\n",
    "bucket = client.bucket('your-bucket-name')  # Replace with your Firebase Storage bucket name\n"
   ]
  }
 ],
 "metadata": {
  "language_info": {
   "name": "python"
  },
  "orig_nbformat": 4
 },
 "nbformat": 4,
 "nbformat_minor": 2
}
